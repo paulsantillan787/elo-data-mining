{
  "nbformat": 4,
  "nbformat_minor": 0,
  "metadata": {
    "colab": {
      "provenance": []
    },
    "kernelspec": {
      "name": "python3",
      "display_name": "Python 3"
    },
    "language_info": {
      "name": "python"
    }
  },
  "cells": [
    {
      "cell_type": "markdown",
      "source": [
        "#1. Introducción y Objetivo de la Preparación"
      ],
      "metadata": {
        "id": "n1yMQ0O1VcEV"
      }
    },
    {
      "cell_type": "markdown",
      "source": [
        "##Objetivo del Notebook\n",
        "-\n",
        "-\n",
        "-\n",
        "\n",
        "##Resumen de decisiones tomadas durante la fase de comprensión de los datos (por ejemplo, limpieza, selección de atributos).\n",
        "-\n",
        "-\n",
        "-"
      ],
      "metadata": {
        "id": "kxiFnENhL2vN"
      }
    },
    {
      "cell_type": "markdown",
      "source": [
        "#2. Selección de Datos"
      ],
      "metadata": {
        "id": "fNoqcayXMKg9"
      }
    },
    {
      "cell_type": "markdown",
      "source": [
        "##Selección de columnas relevantes (features) basadas en el análisis anterior."
      ],
      "metadata": {
        "id": "km9h6AtyMPOC"
      }
    },
    {
      "cell_type": "code",
      "execution_count": null,
      "metadata": {
        "id": "rL_V0AUzLC47"
      },
      "outputs": [],
      "source": []
    },
    {
      "cell_type": "markdown",
      "source": [
        "##Exclusión de datos irrelevantes o no disponibles para modelado."
      ],
      "metadata": {
        "id": "fL1q5ZaMMQMk"
      }
    },
    {
      "cell_type": "code",
      "source": [],
      "metadata": {
        "id": "CGE7P12KMTPM"
      },
      "execution_count": null,
      "outputs": []
    },
    {
      "cell_type": "markdown",
      "source": [
        "##Justificación de cada variable seleccionada."
      ],
      "metadata": {
        "id": "BnX4eyR7MTkV"
      }
    },
    {
      "cell_type": "code",
      "source": [],
      "metadata": {
        "id": "5es7QwEgMWcj"
      },
      "execution_count": null,
      "outputs": []
    },
    {
      "cell_type": "markdown",
      "source": [
        "#3. Limpieza de los Datos"
      ],
      "metadata": {
        "id": "K5l56X30MXct"
      }
    },
    {
      "cell_type": "markdown",
      "source": [
        "##Imputación de valores faltantes."
      ],
      "metadata": {
        "id": "gtiA-4gzMaNy"
      }
    },
    {
      "cell_type": "code",
      "source": [],
      "metadata": {
        "id": "ytIDbymVMbmo"
      },
      "execution_count": null,
      "outputs": []
    },
    {
      "cell_type": "markdown",
      "source": [
        "##Detección y tratamiento de outliers."
      ],
      "metadata": {
        "id": "JrFHBJr9Mb5Q"
      }
    },
    {
      "cell_type": "code",
      "source": [],
      "metadata": {
        "id": "hsIQF3UNMdKd"
      },
      "execution_count": null,
      "outputs": []
    },
    {
      "cell_type": "markdown",
      "source": [
        "##Corrección de valores erróneos, inconsistentes o duplicados."
      ],
      "metadata": {
        "id": "2UyVpuvdMdYp"
      }
    },
    {
      "cell_type": "code",
      "source": [],
      "metadata": {
        "id": "I6NYRyQmMfC-"
      },
      "execution_count": null,
      "outputs": []
    },
    {
      "cell_type": "markdown",
      "source": [
        "##Normalización de formatos (ej: fechas, strings, booleans)."
      ],
      "metadata": {
        "id": "i1DnTSxsMfcQ"
      }
    },
    {
      "cell_type": "code",
      "source": [],
      "metadata": {
        "id": "OmthF-E7Mg1I"
      },
      "execution_count": null,
      "outputs": []
    },
    {
      "cell_type": "markdown",
      "source": [
        "#4. Integración de Datos"
      ],
      "metadata": {
        "id": "MfWbExH9Mo9Q"
      }
    },
    {
      "cell_type": "markdown",
      "source": [
        "##Uniones entre tablas (por ejemplo: train + transacciones + merchants)."
      ],
      "metadata": {
        "id": "TifvvBhuMq70"
      }
    },
    {
      "cell_type": "code",
      "source": [],
      "metadata": {
        "id": "YRVgbeTEMs93"
      },
      "execution_count": null,
      "outputs": []
    },
    {
      "cell_type": "markdown",
      "source": [
        "##Definición del tipo de join (left, inner, etc.) y justificación."
      ],
      "metadata": {
        "id": "Uh_qUU33MtQt"
      }
    },
    {
      "cell_type": "code",
      "source": [],
      "metadata": {
        "id": "ltgd5dMYMu7c"
      },
      "execution_count": null,
      "outputs": []
    },
    {
      "cell_type": "markdown",
      "source": [
        "##Manejo de duplicados y verificación de cardinalidades."
      ],
      "metadata": {
        "id": "snobJEesMvMs"
      }
    },
    {
      "cell_type": "code",
      "source": [],
      "metadata": {
        "id": "_wYk284XMxJJ"
      },
      "execution_count": null,
      "outputs": []
    },
    {
      "cell_type": "markdown",
      "source": [
        "##Agregaciones por tarjeta, tiempo o categoría (u otras variables)."
      ],
      "metadata": {
        "id": "f1KybG3AMxl-"
      }
    },
    {
      "cell_type": "code",
      "source": [],
      "metadata": {
        "id": "NOCL_V2mM2Qr"
      },
      "execution_count": null,
      "outputs": []
    },
    {
      "cell_type": "markdown",
      "source": [
        "#5. Construcción de Variables"
      ],
      "metadata": {
        "id": "drEe0izNND09"
      }
    },
    {
      "cell_type": "markdown",
      "source": [
        "##Generación de nuevas variables basadas en las existentes (feature engineering)."
      ],
      "metadata": {
        "id": "6ZqFchpKNFqz"
      }
    },
    {
      "cell_type": "code",
      "source": [
        "# Ejemplos: total de compras, frecuencia de uso, tipo de comercio más visitado."
      ],
      "metadata": {
        "id": "ulNMQpnKNJuM"
      },
      "execution_count": null,
      "outputs": []
    },
    {
      "cell_type": "markdown",
      "source": [
        "##Cálculo de estadísticas agregadas por cliente, comerciante o tiempo."
      ],
      "metadata": {
        "id": "9ME6BraVNKBL"
      }
    },
    {
      "cell_type": "code",
      "source": [
        "# u otras agregaciones"
      ],
      "metadata": {
        "id": "q5gmv_VcNN0N"
      },
      "execution_count": null,
      "outputs": []
    },
    {
      "cell_type": "markdown",
      "source": [
        "##Justificación de cada nueva variable."
      ],
      "metadata": {
        "id": "vmzIx9ZjNPF_"
      }
    },
    {
      "cell_type": "code",
      "source": [],
      "metadata": {
        "id": "2c3QiZmSNP-w"
      },
      "execution_count": null,
      "outputs": []
    },
    {
      "cell_type": "markdown",
      "source": [
        "#6. Formateo y Transformación"
      ],
      "metadata": {
        "id": "6Vafk2bZNVeb"
      }
    },
    {
      "cell_type": "markdown",
      "source": [
        "##Escalado de variables numéricas (min-max, z-score, log, etc.)."
      ],
      "metadata": {
        "id": "ROsjaOknNYor"
      }
    },
    {
      "cell_type": "code",
      "source": [
        "# Se pueden probar varios escalados para testear luego con el modelado.\n",
        "# O investigar formas de validar la calidad del escalado (graficos u otros metodos)"
      ],
      "metadata": {
        "id": "0tk1kn3DNadp"
      },
      "execution_count": null,
      "outputs": []
    },
    {
      "cell_type": "markdown",
      "source": [
        "##Codificación de variables categóricas (label encoding, one-hot, etc.)."
      ],
      "metadata": {
        "id": "fLcidemJNavV"
      }
    },
    {
      "cell_type": "code",
      "source": [],
      "metadata": {
        "id": "HR7df73ENbUl"
      },
      "execution_count": null,
      "outputs": []
    },
    {
      "cell_type": "markdown",
      "source": [
        "##Conversión de fechas a características útiles (mes, día, antigüedad, etc.)."
      ],
      "metadata": {
        "id": "x_Q2qL30NcY8"
      }
    },
    {
      "cell_type": "code",
      "source": [],
      "metadata": {
        "id": "UrNWnnIYNdYd"
      },
      "execution_count": null,
      "outputs": []
    },
    {
      "cell_type": "markdown",
      "source": [
        "#7. Filtrado Final del Dataset"
      ],
      "metadata": {
        "id": "mZQ8rJF2Neh6"
      }
    },
    {
      "cell_type": "markdown",
      "source": [
        "##Eliminación de columnas redundantes o intermedias."
      ],
      "metadata": {
        "id": "088IeQrXNgp_"
      }
    },
    {
      "cell_type": "code",
      "source": [],
      "metadata": {
        "id": "Rmaz9fglNhXd"
      },
      "execution_count": null,
      "outputs": []
    },
    {
      "cell_type": "markdown",
      "source": [
        "##Confirmación de que no existen valores nulos o inconsistencias."
      ],
      "metadata": {
        "id": "9jp32utgNi6S"
      }
    },
    {
      "cell_type": "code",
      "source": [],
      "metadata": {
        "id": "v06ffq-BNjg7"
      },
      "execution_count": null,
      "outputs": []
    },
    {
      "cell_type": "markdown",
      "source": [
        "##Revisión de balance de clases si aplica."
      ],
      "metadata": {
        "id": "H5krvMiUNj3k"
      }
    },
    {
      "cell_type": "code",
      "source": [],
      "metadata": {
        "id": "cdWadmrHNlfb"
      },
      "execution_count": null,
      "outputs": []
    },
    {
      "cell_type": "markdown",
      "source": [
        "#8. Almacenamiento del Dataset Final"
      ],
      "metadata": {
        "id": "z_r6AZmmNmx7"
      }
    },
    {
      "cell_type": "markdown",
      "source": [
        "##Exportación del dataset limpio en formato .csv o .parquet."
      ],
      "metadata": {
        "id": "fxNGlhzMNppt"
      }
    },
    {
      "cell_type": "code",
      "source": [],
      "metadata": {
        "id": "4fbA0MhyNqQu"
      },
      "execution_count": null,
      "outputs": []
    },
    {
      "cell_type": "markdown",
      "source": [
        "##Guardado de versiones intermedias si es necesario."
      ],
      "metadata": {
        "id": "jmzpxJ0RNqhe"
      }
    },
    {
      "cell_type": "code",
      "source": [],
      "metadata": {
        "id": "ymqqHwciNsNq"
      },
      "execution_count": null,
      "outputs": []
    },
    {
      "cell_type": "markdown",
      "source": [
        "##Comentarios sobre estructura y uso futuro del dataset."
      ],
      "metadata": {
        "id": "o5_dsR9-Nsct"
      }
    },
    {
      "cell_type": "code",
      "source": [],
      "metadata": {
        "id": "71KXxO2ZNtlj"
      },
      "execution_count": null,
      "outputs": []
    },
    {
      "cell_type": "markdown",
      "source": [
        "#9. Validación del Dataset para Modelado"
      ],
      "metadata": {
        "id": "K9YIqBPTNuok"
      }
    },
    {
      "cell_type": "markdown",
      "source": [
        "##Comprobación de dimensiones, tipos de datos, consistencia."
      ],
      "metadata": {
        "id": "gEzSxlZANxPV"
      }
    },
    {
      "cell_type": "code",
      "source": [],
      "metadata": {
        "id": "hhOPDIC8Nyq1"
      },
      "execution_count": null,
      "outputs": []
    },
    {
      "cell_type": "markdown",
      "source": [
        "##Revisión rápida de la distribución de la variable target."
      ],
      "metadata": {
        "id": "VAkaj2s2Nzzl"
      }
    },
    {
      "cell_type": "code",
      "source": [],
      "metadata": {
        "id": "a-5YCTnWN0zW"
      },
      "execution_count": null,
      "outputs": []
    },
    {
      "cell_type": "markdown",
      "source": [
        "##Verificación de integridad después de joins y transformaciones."
      ],
      "metadata": {
        "id": "dNJT2MixN2Hs"
      }
    },
    {
      "cell_type": "code",
      "source": [],
      "metadata": {
        "id": "4Q4l_nXaN2uO"
      },
      "execution_count": null,
      "outputs": []
    },
    {
      "cell_type": "markdown",
      "source": [
        "#10. Conclusiones y Próximos Pasos"
      ],
      "metadata": {
        "id": "dlUQ2bGUN30V"
      }
    },
    {
      "cell_type": "markdown",
      "source": [
        "##Resumen de pasos realizados.\n",
        "###1. adsad\n",
        "-\n",
        "-\n",
        "-\n",
        "\n",
        "###2. adsad\n",
        "-\n",
        "-\n",
        "-\n",
        "\n",
        "###3. adsad\n",
        "-\n",
        "-\n",
        "-\n",
        "\n",
        "\n",
        "##Observaciones relevantes para el modelado.\n",
        "-\n",
        "-\n",
        "-\n",
        "\n",
        "\n",
        "##Criterios pendientes o decisiones abiertas\n",
        "- (por ejemplo: pruebas de codificaciones)\n",
        "-\n",
        "-"
      ],
      "metadata": {
        "id": "7w4GBzW_N5wn"
      }
    }
  ]
}