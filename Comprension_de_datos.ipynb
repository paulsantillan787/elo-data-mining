{
  "cells": [
    {
      "cell_type": "markdown",
      "metadata": {
        "id": "dWNbnrzmgNmJ"
      },
      "source": []
    },
    {
      "cell_type": "markdown",
      "metadata": {
        "id": "-8B6BQsmV413"
      },
      "source": [
        "#1.Introducción\n",
        "##Propósito\n",
        "El propósito de esta etapa es proporcionar una visión general del proyecto y los objetivos del análisis de datos, explicando el contexto del conjunto de datos y cómo se relaciona con el objetivo comercial de Elo. La exploración y comprensión de los datos de las transacciones y las características de los comercios se realizará para obtener una base sólida que permita un análisis más profundo y, finalmente, la construcción de modelos predictivos que mejoren la experiencia del usuario mediante recomendaciones personalizadas.\n",
        "\n",
        "Este análisis tiene los siguientes objetivos específicos:\n",
        "\n",
        "1. Comprender el contexto del negocio: Entender cómo Elo está trabajando con comerciantes y clientes, y cómo las promociones y descuentos pueden impactar la fidelización del cliente.\n",
        "\n",
        "2. Revisar la calidad y la estructura de los datos: Asegurar que los datos sean adecuados para el modelado posterior y detectar posibles problemas como valores faltantes, errores o anomalías.\n",
        "\n",
        "3. Explorar las relaciones clave entre variables: Identificar patrones y relaciones entre las variables para comprender qué características son más relevantes para la predicción del \"Loyalty score\".\n",
        "\n",
        "4. Identificar oportunidades de mejora y refinamiento de los datos: Encontrar áreas en las que los datos puedan mejorarse o transformarse para obtener una mayor precisión en los modelos predictivos.\n",
        "\n",
        "##Objetivos del negocio:\n",
        "###Objetivo General:\n",
        "Desarrollar un sistema de recomendación basado en machine learning que permita predecir el nivel de lealtad futura de los tarjetahabientes, con el fin de mejorar la personalización de promociones y maximizar el retorno para comercios aliados.\n",
        "\n",
        "###Objetivos Específicos\n",
        "1. Identificar patrones de comportamiento de compra que influyen en la lealtad de los clientes.\n",
        "2. Anticipar el score de lealtad futura de los tarjetahabientes con base en sus transacciones anteriores.\n",
        "3. Mejorar la eficiencia en la asignación de promociones comerciales personalizadas.\n",
        "4. Incrementar la recurrencia de consumo en clientes con alta lealtad estimada.\n",
        "5. Incorporar el score de lealtad como insumo recurrente en los procesos de toma de decisiones comerciales.\n",
        "\n",
        "##Objetivos de minería (Pendiente)\n",
        "\n",
        "##Archivos:\n",
        "- train.csv: el conjunto de entrenamiento\n",
        "- test.csv: el conjunto de prueba\n",
        "- historical_transactions.csv: hasta 3 meses de transacciones históricas para cada card_id\n",
        "- new_merchant_transactions.csv: dos meses de datos para cada card_id que contienen TODAS las compras realizadas por card_id en merchant_ids que no se vieron en los datos históricos.\n",
        "- merchants.csv: información adicional sobre todos los comercios/commerce_ids del conjunto de datos."
      ]
    },
    {
      "cell_type": "markdown",
      "metadata": {
        "id": "OWbIDx7WgjEq"
      },
      "source": [
        "#2.Carga de los Datos"
      ]
    },
    {
      "cell_type": "code",
      "execution_count": 3,
      "metadata": {
        "id": "37mXdOZ65JQw"
      },
      "outputs": [],
      "source": [
        "# Importación de librerías\n",
        "import pandas as pd\n",
        "import numpy as np"
      ]
    },
    {
      "cell_type": "code",
      "execution_count": null,
      "metadata": {
        "id": "LDq5jSBBgiHZ"
      },
      "outputs": [],
      "source": [
        "# Carga de datasets\n",
        "vdf_train = pd.read_csv('/src/train.csv')\n",
        "vdf_test = pd.read_csv('/src/test.csv')\n",
        "vdf_hist_trans = pd.read_csv('/src/historical_transactions.csv')\n",
        "vdf_new_trans = pd.read_csv('/src/new_merchant_transactions.csv')\n",
        "vdf_merchants = pd.read_csv('/src/merchants.csv')"
      ]
    },
    {
      "cell_type": "code",
      "execution_count": 6,
      "metadata": {
        "id": "T8iOIrhqgu4Z"
      },
      "outputs": [
        {
          "data": {
            "text/html": [
              "<div>\n",
              "<style scoped>\n",
              "    .dataframe tbody tr th:only-of-type {\n",
              "        vertical-align: middle;\n",
              "    }\n",
              "\n",
              "    .dataframe tbody tr th {\n",
              "        vertical-align: top;\n",
              "    }\n",
              "\n",
              "    .dataframe thead th {\n",
              "        text-align: right;\n",
              "    }\n",
              "</style>\n",
              "<table border=\"1\" class=\"dataframe\">\n",
              "  <thead>\n",
              "    <tr style=\"text-align: right;\">\n",
              "      <th></th>\n",
              "      <th>first_active_month</th>\n",
              "      <th>card_id</th>\n",
              "      <th>feature_1</th>\n",
              "      <th>feature_2</th>\n",
              "      <th>feature_3</th>\n",
              "      <th>target</th>\n",
              "    </tr>\n",
              "  </thead>\n",
              "  <tbody>\n",
              "    <tr>\n",
              "      <th>0</th>\n",
              "      <td>2017-06</td>\n",
              "      <td>C_ID_92a2005557</td>\n",
              "      <td>5</td>\n",
              "      <td>2</td>\n",
              "      <td>1</td>\n",
              "      <td>-0.820283</td>\n",
              "    </tr>\n",
              "    <tr>\n",
              "      <th>1</th>\n",
              "      <td>2017-01</td>\n",
              "      <td>C_ID_3d0044924f</td>\n",
              "      <td>4</td>\n",
              "      <td>1</td>\n",
              "      <td>0</td>\n",
              "      <td>0.392913</td>\n",
              "    </tr>\n",
              "    <tr>\n",
              "      <th>2</th>\n",
              "      <td>2016-08</td>\n",
              "      <td>C_ID_d639edf6cd</td>\n",
              "      <td>2</td>\n",
              "      <td>2</td>\n",
              "      <td>0</td>\n",
              "      <td>0.688056</td>\n",
              "    </tr>\n",
              "    <tr>\n",
              "      <th>3</th>\n",
              "      <td>2017-09</td>\n",
              "      <td>C_ID_186d6a6901</td>\n",
              "      <td>4</td>\n",
              "      <td>3</td>\n",
              "      <td>0</td>\n",
              "      <td>0.142495</td>\n",
              "    </tr>\n",
              "    <tr>\n",
              "      <th>4</th>\n",
              "      <td>2017-11</td>\n",
              "      <td>C_ID_cdbd2c0db2</td>\n",
              "      <td>1</td>\n",
              "      <td>3</td>\n",
              "      <td>0</td>\n",
              "      <td>-0.159749</td>\n",
              "    </tr>\n",
              "  </tbody>\n",
              "</table>\n",
              "</div>"
            ],
            "text/plain": [
              "  first_active_month          card_id  feature_1  feature_2  feature_3  \\\n",
              "0            2017-06  C_ID_92a2005557          5          2          1   \n",
              "1            2017-01  C_ID_3d0044924f          4          1          0   \n",
              "2            2016-08  C_ID_d639edf6cd          2          2          0   \n",
              "3            2017-09  C_ID_186d6a6901          4          3          0   \n",
              "4            2017-11  C_ID_cdbd2c0db2          1          3          0   \n",
              "\n",
              "     target  \n",
              "0 -0.820283  \n",
              "1  0.392913  \n",
              "2  0.688056  \n",
              "3  0.142495  \n",
              "4 -0.159749  "
            ]
          },
          "execution_count": 6,
          "metadata": {},
          "output_type": "execute_result"
        }
      ],
      "source": [
        "# Visualización básica de las dimensiones, columnas, tipos de datos y primeras filas (head()).\n",
        "vdf_train.head()"
      ]
    },
    {
      "cell_type": "code",
      "execution_count": 7,
      "metadata": {},
      "outputs": [
        {
          "data": {
            "text/html": [
              "<div>\n",
              "<style scoped>\n",
              "    .dataframe tbody tr th:only-of-type {\n",
              "        vertical-align: middle;\n",
              "    }\n",
              "\n",
              "    .dataframe tbody tr th {\n",
              "        vertical-align: top;\n",
              "    }\n",
              "\n",
              "    .dataframe thead th {\n",
              "        text-align: right;\n",
              "    }\n",
              "</style>\n",
              "<table border=\"1\" class=\"dataframe\">\n",
              "  <thead>\n",
              "    <tr style=\"text-align: right;\">\n",
              "      <th></th>\n",
              "      <th>first_active_month</th>\n",
              "      <th>card_id</th>\n",
              "      <th>feature_1</th>\n",
              "      <th>feature_2</th>\n",
              "      <th>feature_3</th>\n",
              "    </tr>\n",
              "  </thead>\n",
              "  <tbody>\n",
              "    <tr>\n",
              "      <th>0</th>\n",
              "      <td>2017-04</td>\n",
              "      <td>C_ID_0ab67a22ab</td>\n",
              "      <td>3</td>\n",
              "      <td>3</td>\n",
              "      <td>1</td>\n",
              "    </tr>\n",
              "    <tr>\n",
              "      <th>1</th>\n",
              "      <td>2017-01</td>\n",
              "      <td>C_ID_130fd0cbdd</td>\n",
              "      <td>2</td>\n",
              "      <td>3</td>\n",
              "      <td>0</td>\n",
              "    </tr>\n",
              "    <tr>\n",
              "      <th>2</th>\n",
              "      <td>2017-08</td>\n",
              "      <td>C_ID_b709037bc5</td>\n",
              "      <td>5</td>\n",
              "      <td>1</td>\n",
              "      <td>1</td>\n",
              "    </tr>\n",
              "    <tr>\n",
              "      <th>3</th>\n",
              "      <td>2017-12</td>\n",
              "      <td>C_ID_d27d835a9f</td>\n",
              "      <td>2</td>\n",
              "      <td>1</td>\n",
              "      <td>0</td>\n",
              "    </tr>\n",
              "    <tr>\n",
              "      <th>4</th>\n",
              "      <td>2015-12</td>\n",
              "      <td>C_ID_2b5e3df5c2</td>\n",
              "      <td>5</td>\n",
              "      <td>1</td>\n",
              "      <td>1</td>\n",
              "    </tr>\n",
              "  </tbody>\n",
              "</table>\n",
              "</div>"
            ],
            "text/plain": [
              "  first_active_month          card_id  feature_1  feature_2  feature_3\n",
              "0            2017-04  C_ID_0ab67a22ab          3          3          1\n",
              "1            2017-01  C_ID_130fd0cbdd          2          3          0\n",
              "2            2017-08  C_ID_b709037bc5          5          1          1\n",
              "3            2017-12  C_ID_d27d835a9f          2          1          0\n",
              "4            2015-12  C_ID_2b5e3df5c2          5          1          1"
            ]
          },
          "execution_count": 7,
          "metadata": {},
          "output_type": "execute_result"
        }
      ],
      "source": [
        "vdf_test.head()"
      ]
    },
    {
      "cell_type": "code",
      "execution_count": 8,
      "metadata": {},
      "outputs": [
        {
          "data": {
            "text/html": [
              "<div>\n",
              "<style scoped>\n",
              "    .dataframe tbody tr th:only-of-type {\n",
              "        vertical-align: middle;\n",
              "    }\n",
              "\n",
              "    .dataframe tbody tr th {\n",
              "        vertical-align: top;\n",
              "    }\n",
              "\n",
              "    .dataframe thead th {\n",
              "        text-align: right;\n",
              "    }\n",
              "</style>\n",
              "<table border=\"1\" class=\"dataframe\">\n",
              "  <thead>\n",
              "    <tr style=\"text-align: right;\">\n",
              "      <th></th>\n",
              "      <th>authorized_flag</th>\n",
              "      <th>card_id</th>\n",
              "      <th>city_id</th>\n",
              "      <th>category_1</th>\n",
              "      <th>installments</th>\n",
              "      <th>category_3</th>\n",
              "      <th>merchant_category_id</th>\n",
              "      <th>merchant_id</th>\n",
              "      <th>month_lag</th>\n",
              "      <th>purchase_amount</th>\n",
              "      <th>purchase_date</th>\n",
              "      <th>category_2</th>\n",
              "      <th>state_id</th>\n",
              "      <th>subsector_id</th>\n",
              "    </tr>\n",
              "  </thead>\n",
              "  <tbody>\n",
              "    <tr>\n",
              "      <th>0</th>\n",
              "      <td>Y</td>\n",
              "      <td>C_ID_4e6213e9bc</td>\n",
              "      <td>88</td>\n",
              "      <td>N</td>\n",
              "      <td>0</td>\n",
              "      <td>A</td>\n",
              "      <td>80</td>\n",
              "      <td>M_ID_e020e9b302</td>\n",
              "      <td>-8</td>\n",
              "      <td>-0.703331</td>\n",
              "      <td>2017-06-25 15:33:07</td>\n",
              "      <td>1.0</td>\n",
              "      <td>16</td>\n",
              "      <td>37</td>\n",
              "    </tr>\n",
              "    <tr>\n",
              "      <th>1</th>\n",
              "      <td>Y</td>\n",
              "      <td>C_ID_4e6213e9bc</td>\n",
              "      <td>88</td>\n",
              "      <td>N</td>\n",
              "      <td>0</td>\n",
              "      <td>A</td>\n",
              "      <td>367</td>\n",
              "      <td>M_ID_86ec983688</td>\n",
              "      <td>-7</td>\n",
              "      <td>-0.733128</td>\n",
              "      <td>2017-07-15 12:10:45</td>\n",
              "      <td>1.0</td>\n",
              "      <td>16</td>\n",
              "      <td>16</td>\n",
              "    </tr>\n",
              "    <tr>\n",
              "      <th>2</th>\n",
              "      <td>Y</td>\n",
              "      <td>C_ID_4e6213e9bc</td>\n",
              "      <td>88</td>\n",
              "      <td>N</td>\n",
              "      <td>0</td>\n",
              "      <td>A</td>\n",
              "      <td>80</td>\n",
              "      <td>M_ID_979ed661fc</td>\n",
              "      <td>-6</td>\n",
              "      <td>-0.720386</td>\n",
              "      <td>2017-08-09 22:04:29</td>\n",
              "      <td>1.0</td>\n",
              "      <td>16</td>\n",
              "      <td>37</td>\n",
              "    </tr>\n",
              "    <tr>\n",
              "      <th>3</th>\n",
              "      <td>Y</td>\n",
              "      <td>C_ID_4e6213e9bc</td>\n",
              "      <td>88</td>\n",
              "      <td>N</td>\n",
              "      <td>0</td>\n",
              "      <td>A</td>\n",
              "      <td>560</td>\n",
              "      <td>M_ID_e6d5ae8ea6</td>\n",
              "      <td>-5</td>\n",
              "      <td>-0.735352</td>\n",
              "      <td>2017-09-02 10:06:26</td>\n",
              "      <td>1.0</td>\n",
              "      <td>16</td>\n",
              "      <td>34</td>\n",
              "    </tr>\n",
              "    <tr>\n",
              "      <th>4</th>\n",
              "      <td>Y</td>\n",
              "      <td>C_ID_4e6213e9bc</td>\n",
              "      <td>88</td>\n",
              "      <td>N</td>\n",
              "      <td>0</td>\n",
              "      <td>A</td>\n",
              "      <td>80</td>\n",
              "      <td>M_ID_e020e9b302</td>\n",
              "      <td>-11</td>\n",
              "      <td>-0.722865</td>\n",
              "      <td>2017-03-10 01:14:19</td>\n",
              "      <td>1.0</td>\n",
              "      <td>16</td>\n",
              "      <td>37</td>\n",
              "    </tr>\n",
              "  </tbody>\n",
              "</table>\n",
              "</div>"
            ],
            "text/plain": [
              "  authorized_flag          card_id  city_id category_1  installments  \\\n",
              "0               Y  C_ID_4e6213e9bc       88          N             0   \n",
              "1               Y  C_ID_4e6213e9bc       88          N             0   \n",
              "2               Y  C_ID_4e6213e9bc       88          N             0   \n",
              "3               Y  C_ID_4e6213e9bc       88          N             0   \n",
              "4               Y  C_ID_4e6213e9bc       88          N             0   \n",
              "\n",
              "  category_3  merchant_category_id      merchant_id  month_lag  \\\n",
              "0          A                    80  M_ID_e020e9b302         -8   \n",
              "1          A                   367  M_ID_86ec983688         -7   \n",
              "2          A                    80  M_ID_979ed661fc         -6   \n",
              "3          A                   560  M_ID_e6d5ae8ea6         -5   \n",
              "4          A                    80  M_ID_e020e9b302        -11   \n",
              "\n",
              "   purchase_amount        purchase_date  category_2  state_id  subsector_id  \n",
              "0        -0.703331  2017-06-25 15:33:07         1.0        16            37  \n",
              "1        -0.733128  2017-07-15 12:10:45         1.0        16            16  \n",
              "2        -0.720386  2017-08-09 22:04:29         1.0        16            37  \n",
              "3        -0.735352  2017-09-02 10:06:26         1.0        16            34  \n",
              "4        -0.722865  2017-03-10 01:14:19         1.0        16            37  "
            ]
          },
          "execution_count": 8,
          "metadata": {},
          "output_type": "execute_result"
        }
      ],
      "source": [
        "vdf_hist_trans.head()"
      ]
    },
    {
      "cell_type": "code",
      "execution_count": 9,
      "metadata": {},
      "outputs": [
        {
          "data": {
            "text/html": [
              "<div>\n",
              "<style scoped>\n",
              "    .dataframe tbody tr th:only-of-type {\n",
              "        vertical-align: middle;\n",
              "    }\n",
              "\n",
              "    .dataframe tbody tr th {\n",
              "        vertical-align: top;\n",
              "    }\n",
              "\n",
              "    .dataframe thead th {\n",
              "        text-align: right;\n",
              "    }\n",
              "</style>\n",
              "<table border=\"1\" class=\"dataframe\">\n",
              "  <thead>\n",
              "    <tr style=\"text-align: right;\">\n",
              "      <th></th>\n",
              "      <th>authorized_flag</th>\n",
              "      <th>card_id</th>\n",
              "      <th>city_id</th>\n",
              "      <th>category_1</th>\n",
              "      <th>installments</th>\n",
              "      <th>category_3</th>\n",
              "      <th>merchant_category_id</th>\n",
              "      <th>merchant_id</th>\n",
              "      <th>month_lag</th>\n",
              "      <th>purchase_amount</th>\n",
              "      <th>purchase_date</th>\n",
              "      <th>category_2</th>\n",
              "      <th>state_id</th>\n",
              "      <th>subsector_id</th>\n",
              "    </tr>\n",
              "  </thead>\n",
              "  <tbody>\n",
              "    <tr>\n",
              "      <th>0</th>\n",
              "      <td>Y</td>\n",
              "      <td>C_ID_415bb3a509</td>\n",
              "      <td>107</td>\n",
              "      <td>N</td>\n",
              "      <td>1</td>\n",
              "      <td>B</td>\n",
              "      <td>307</td>\n",
              "      <td>M_ID_b0c793002c</td>\n",
              "      <td>1</td>\n",
              "      <td>-0.557574</td>\n",
              "      <td>2018-03-11 14:57:36</td>\n",
              "      <td>1.0</td>\n",
              "      <td>9</td>\n",
              "      <td>19</td>\n",
              "    </tr>\n",
              "    <tr>\n",
              "      <th>1</th>\n",
              "      <td>Y</td>\n",
              "      <td>C_ID_415bb3a509</td>\n",
              "      <td>140</td>\n",
              "      <td>N</td>\n",
              "      <td>1</td>\n",
              "      <td>B</td>\n",
              "      <td>307</td>\n",
              "      <td>M_ID_88920c89e8</td>\n",
              "      <td>1</td>\n",
              "      <td>-0.569580</td>\n",
              "      <td>2018-03-19 18:53:37</td>\n",
              "      <td>1.0</td>\n",
              "      <td>9</td>\n",
              "      <td>19</td>\n",
              "    </tr>\n",
              "    <tr>\n",
              "      <th>2</th>\n",
              "      <td>Y</td>\n",
              "      <td>C_ID_415bb3a509</td>\n",
              "      <td>330</td>\n",
              "      <td>N</td>\n",
              "      <td>1</td>\n",
              "      <td>B</td>\n",
              "      <td>507</td>\n",
              "      <td>M_ID_ad5237ef6b</td>\n",
              "      <td>2</td>\n",
              "      <td>-0.551037</td>\n",
              "      <td>2018-04-26 14:08:44</td>\n",
              "      <td>1.0</td>\n",
              "      <td>9</td>\n",
              "      <td>14</td>\n",
              "    </tr>\n",
              "    <tr>\n",
              "      <th>3</th>\n",
              "      <td>Y</td>\n",
              "      <td>C_ID_415bb3a509</td>\n",
              "      <td>-1</td>\n",
              "      <td>Y</td>\n",
              "      <td>1</td>\n",
              "      <td>B</td>\n",
              "      <td>661</td>\n",
              "      <td>M_ID_9e84cda3b1</td>\n",
              "      <td>1</td>\n",
              "      <td>-0.671925</td>\n",
              "      <td>2018-03-07 09:43:21</td>\n",
              "      <td>NaN</td>\n",
              "      <td>-1</td>\n",
              "      <td>8</td>\n",
              "    </tr>\n",
              "    <tr>\n",
              "      <th>4</th>\n",
              "      <td>Y</td>\n",
              "      <td>C_ID_ef55cf8d4b</td>\n",
              "      <td>-1</td>\n",
              "      <td>Y</td>\n",
              "      <td>1</td>\n",
              "      <td>B</td>\n",
              "      <td>166</td>\n",
              "      <td>M_ID_3c86fa3831</td>\n",
              "      <td>1</td>\n",
              "      <td>-0.659904</td>\n",
              "      <td>2018-03-22 21:07:53</td>\n",
              "      <td>NaN</td>\n",
              "      <td>-1</td>\n",
              "      <td>29</td>\n",
              "    </tr>\n",
              "  </tbody>\n",
              "</table>\n",
              "</div>"
            ],
            "text/plain": [
              "  authorized_flag          card_id  city_id category_1  installments  \\\n",
              "0               Y  C_ID_415bb3a509      107          N             1   \n",
              "1               Y  C_ID_415bb3a509      140          N             1   \n",
              "2               Y  C_ID_415bb3a509      330          N             1   \n",
              "3               Y  C_ID_415bb3a509       -1          Y             1   \n",
              "4               Y  C_ID_ef55cf8d4b       -1          Y             1   \n",
              "\n",
              "  category_3  merchant_category_id      merchant_id  month_lag  \\\n",
              "0          B                   307  M_ID_b0c793002c          1   \n",
              "1          B                   307  M_ID_88920c89e8          1   \n",
              "2          B                   507  M_ID_ad5237ef6b          2   \n",
              "3          B                   661  M_ID_9e84cda3b1          1   \n",
              "4          B                   166  M_ID_3c86fa3831          1   \n",
              "\n",
              "   purchase_amount        purchase_date  category_2  state_id  subsector_id  \n",
              "0        -0.557574  2018-03-11 14:57:36         1.0         9            19  \n",
              "1        -0.569580  2018-03-19 18:53:37         1.0         9            19  \n",
              "2        -0.551037  2018-04-26 14:08:44         1.0         9            14  \n",
              "3        -0.671925  2018-03-07 09:43:21         NaN        -1             8  \n",
              "4        -0.659904  2018-03-22 21:07:53         NaN        -1            29  "
            ]
          },
          "execution_count": 9,
          "metadata": {},
          "output_type": "execute_result"
        }
      ],
      "source": [
        "vdf_new_trans.head()"
      ]
    },
    {
      "cell_type": "code",
      "execution_count": 10,
      "metadata": {},
      "outputs": [
        {
          "data": {
            "text/html": [
              "<div>\n",
              "<style scoped>\n",
              "    .dataframe tbody tr th:only-of-type {\n",
              "        vertical-align: middle;\n",
              "    }\n",
              "\n",
              "    .dataframe tbody tr th {\n",
              "        vertical-align: top;\n",
              "    }\n",
              "\n",
              "    .dataframe thead th {\n",
              "        text-align: right;\n",
              "    }\n",
              "</style>\n",
              "<table border=\"1\" class=\"dataframe\">\n",
              "  <thead>\n",
              "    <tr style=\"text-align: right;\">\n",
              "      <th></th>\n",
              "      <th>merchant_id</th>\n",
              "      <th>merchant_group_id</th>\n",
              "      <th>merchant_category_id</th>\n",
              "      <th>subsector_id</th>\n",
              "      <th>numerical_1</th>\n",
              "      <th>numerical_2</th>\n",
              "      <th>category_1</th>\n",
              "      <th>most_recent_sales_range</th>\n",
              "      <th>most_recent_purchases_range</th>\n",
              "      <th>avg_sales_lag3</th>\n",
              "      <th>...</th>\n",
              "      <th>avg_sales_lag6</th>\n",
              "      <th>avg_purchases_lag6</th>\n",
              "      <th>active_months_lag6</th>\n",
              "      <th>avg_sales_lag12</th>\n",
              "      <th>avg_purchases_lag12</th>\n",
              "      <th>active_months_lag12</th>\n",
              "      <th>category_4</th>\n",
              "      <th>city_id</th>\n",
              "      <th>state_id</th>\n",
              "      <th>category_2</th>\n",
              "    </tr>\n",
              "  </thead>\n",
              "  <tbody>\n",
              "    <tr>\n",
              "      <th>0</th>\n",
              "      <td>M_ID_838061e48c</td>\n",
              "      <td>8353</td>\n",
              "      <td>792</td>\n",
              "      <td>9</td>\n",
              "      <td>-0.057471</td>\n",
              "      <td>-0.057471</td>\n",
              "      <td>N</td>\n",
              "      <td>E</td>\n",
              "      <td>E</td>\n",
              "      <td>-0.40</td>\n",
              "      <td>...</td>\n",
              "      <td>-2.25</td>\n",
              "      <td>18.666667</td>\n",
              "      <td>6</td>\n",
              "      <td>-2.32</td>\n",
              "      <td>13.916667</td>\n",
              "      <td>12</td>\n",
              "      <td>N</td>\n",
              "      <td>242</td>\n",
              "      <td>9</td>\n",
              "      <td>1.0</td>\n",
              "    </tr>\n",
              "    <tr>\n",
              "      <th>1</th>\n",
              "      <td>M_ID_9339d880ad</td>\n",
              "      <td>3184</td>\n",
              "      <td>840</td>\n",
              "      <td>20</td>\n",
              "      <td>-0.057471</td>\n",
              "      <td>-0.057471</td>\n",
              "      <td>N</td>\n",
              "      <td>E</td>\n",
              "      <td>E</td>\n",
              "      <td>-0.72</td>\n",
              "      <td>...</td>\n",
              "      <td>-0.74</td>\n",
              "      <td>1.291667</td>\n",
              "      <td>6</td>\n",
              "      <td>-0.57</td>\n",
              "      <td>1.687500</td>\n",
              "      <td>12</td>\n",
              "      <td>N</td>\n",
              "      <td>22</td>\n",
              "      <td>16</td>\n",
              "      <td>1.0</td>\n",
              "    </tr>\n",
              "    <tr>\n",
              "      <th>2</th>\n",
              "      <td>M_ID_e726bbae1e</td>\n",
              "      <td>447</td>\n",
              "      <td>690</td>\n",
              "      <td>1</td>\n",
              "      <td>-0.057471</td>\n",
              "      <td>-0.057471</td>\n",
              "      <td>N</td>\n",
              "      <td>E</td>\n",
              "      <td>E</td>\n",
              "      <td>-82.13</td>\n",
              "      <td>...</td>\n",
              "      <td>-82.13</td>\n",
              "      <td>260.000000</td>\n",
              "      <td>2</td>\n",
              "      <td>-82.13</td>\n",
              "      <td>260.000000</td>\n",
              "      <td>2</td>\n",
              "      <td>N</td>\n",
              "      <td>-1</td>\n",
              "      <td>5</td>\n",
              "      <td>5.0</td>\n",
              "    </tr>\n",
              "    <tr>\n",
              "      <th>3</th>\n",
              "      <td>M_ID_a70e9c5f81</td>\n",
              "      <td>5026</td>\n",
              "      <td>792</td>\n",
              "      <td>9</td>\n",
              "      <td>-0.057471</td>\n",
              "      <td>-0.057471</td>\n",
              "      <td>Y</td>\n",
              "      <td>E</td>\n",
              "      <td>E</td>\n",
              "      <td>NaN</td>\n",
              "      <td>...</td>\n",
              "      <td>NaN</td>\n",
              "      <td>4.666667</td>\n",
              "      <td>6</td>\n",
              "      <td>NaN</td>\n",
              "      <td>3.833333</td>\n",
              "      <td>12</td>\n",
              "      <td>Y</td>\n",
              "      <td>-1</td>\n",
              "      <td>-1</td>\n",
              "      <td>NaN</td>\n",
              "    </tr>\n",
              "    <tr>\n",
              "      <th>4</th>\n",
              "      <td>M_ID_64456c37ce</td>\n",
              "      <td>2228</td>\n",
              "      <td>222</td>\n",
              "      <td>21</td>\n",
              "      <td>-0.057471</td>\n",
              "      <td>-0.057471</td>\n",
              "      <td>Y</td>\n",
              "      <td>E</td>\n",
              "      <td>E</td>\n",
              "      <td>NaN</td>\n",
              "      <td>...</td>\n",
              "      <td>NaN</td>\n",
              "      <td>0.361111</td>\n",
              "      <td>6</td>\n",
              "      <td>NaN</td>\n",
              "      <td>0.347222</td>\n",
              "      <td>12</td>\n",
              "      <td>Y</td>\n",
              "      <td>-1</td>\n",
              "      <td>-1</td>\n",
              "      <td>NaN</td>\n",
              "    </tr>\n",
              "  </tbody>\n",
              "</table>\n",
              "<p>5 rows × 22 columns</p>\n",
              "</div>"
            ],
            "text/plain": [
              "       merchant_id  merchant_group_id  merchant_category_id  subsector_id  \\\n",
              "0  M_ID_838061e48c               8353                   792             9   \n",
              "1  M_ID_9339d880ad               3184                   840            20   \n",
              "2  M_ID_e726bbae1e                447                   690             1   \n",
              "3  M_ID_a70e9c5f81               5026                   792             9   \n",
              "4  M_ID_64456c37ce               2228                   222            21   \n",
              "\n",
              "   numerical_1  numerical_2 category_1 most_recent_sales_range  \\\n",
              "0    -0.057471    -0.057471          N                       E   \n",
              "1    -0.057471    -0.057471          N                       E   \n",
              "2    -0.057471    -0.057471          N                       E   \n",
              "3    -0.057471    -0.057471          Y                       E   \n",
              "4    -0.057471    -0.057471          Y                       E   \n",
              "\n",
              "  most_recent_purchases_range  avg_sales_lag3  ...  avg_sales_lag6  \\\n",
              "0                           E           -0.40  ...           -2.25   \n",
              "1                           E           -0.72  ...           -0.74   \n",
              "2                           E          -82.13  ...          -82.13   \n",
              "3                           E             NaN  ...             NaN   \n",
              "4                           E             NaN  ...             NaN   \n",
              "\n",
              "   avg_purchases_lag6  active_months_lag6  avg_sales_lag12  \\\n",
              "0           18.666667                   6            -2.32   \n",
              "1            1.291667                   6            -0.57   \n",
              "2          260.000000                   2           -82.13   \n",
              "3            4.666667                   6              NaN   \n",
              "4            0.361111                   6              NaN   \n",
              "\n",
              "   avg_purchases_lag12  active_months_lag12  category_4  city_id state_id  \\\n",
              "0            13.916667                   12           N      242        9   \n",
              "1             1.687500                   12           N       22       16   \n",
              "2           260.000000                    2           N       -1        5   \n",
              "3             3.833333                   12           Y       -1       -1   \n",
              "4             0.347222                   12           Y       -1       -1   \n",
              "\n",
              "   category_2  \n",
              "0         1.0  \n",
              "1         1.0  \n",
              "2         5.0  \n",
              "3         NaN  \n",
              "4         NaN  \n",
              "\n",
              "[5 rows x 22 columns]"
            ]
          },
          "execution_count": 10,
          "metadata": {},
          "output_type": "execute_result"
        }
      ],
      "source": [
        "vdf_merchants.head()"
      ]
    },
    {
      "cell_type": "markdown",
      "metadata": {
        "id": "1kHenKhzgms-"
      },
      "source": [
        "#3.Descripción General de los Datos"
      ]
    },
    {
      "cell_type": "markdown",
      "metadata": {
        "id": "HbgZXJZgnsLu"
      },
      "source": [
        "## train.csv: descripción de variables, distribución del target (score de lealtad).\n",
        "|Header |  Definition|\n",
        "|---|---------|\n",
        "|`card_id`|Identificador de tarjeta único|\n",
        "|`first_active_month` |'AAAA-MM', mes de la primera compra|\n",
        "|`feature_1` |Característica categórica de la tarjeta anonimizada|\n",
        "|`feature_2` |Característica categórica de la tarjeta anonimizada|\n",
        "|`feature_3` |Característica categórica de la tarjeta anonimizada|\n",
        "|`target` |Puntuación numérica de fidelidad calculada 2 meses después del período histórico y de evaluación|"
      ]
    },
    {
      "cell_type": "markdown",
      "metadata": {
        "id": "P4SbM5YYnv7T"
      },
      "source": [
        "##test.csv: estructura y comparación con train.\n",
        "|Header |  Definition|\n",
        "|---|---------|\n",
        "|`card_id`|Identificador de tarjeta único|\n",
        "|`first_active_month` |'AAAA-MM', mes de la primera compra|\n",
        "|`feature_1` |Característica categórica de la tarjeta anonimizada|\n",
        "|`feature_2` |Característica categórica de la tarjeta anonimizada|\n",
        "|`feature_3` |Característica categórica de la tarjeta anonimizada|"
      ]
    },
    {
      "cell_type": "markdown",
      "metadata": {
        "id": "-enWHiAgn4B5"
      },
      "source": [
        "##historical_transactions.csv: cantidad de registros por tarjeta, valores típicos.\n",
        "|Header |  Definition|\n",
        "|---|---------|\n",
        "|`merchant_id`|Identificador único de comerciante|\n",
        "|`merchant_group_id` |Grupo de comerciantes (anónimo)|\n",
        "|`merchant_category_id` |Identificador único para la categoría del comerciante (anonimizado)|\n",
        "|`subsector_id` |Grupo de categorías de comerciantes (anonimizado)|\n",
        "|`numerical_1` |medida anónima|\n",
        "|`numerical_2` |medida anónima|\n",
        "|`category_1` |categoría anónima|\n",
        "|`most_recent_sales_range` |Rango de ingresos (unidades monetarias) en el último mes activo --> A > B > C > D > E|\n",
        "|`most_recent_purchases_range` |Rango de cantidad de transacciones en el último mes activo --> A > B > C > D > E|\n",
        "|`avg_sales_lag3` |Promedio mensual de ingresos en los últimos 3 meses dividido por los ingresos del último mes activo|\n",
        "|`avg_purchases_lag3` |Promedio mensual de transacciones en los últimos 3 meses dividido por las transacciones en el último mes activo|\n",
        "|`active_months_lag3` |Cantidad de meses activos en los últimos 3 meses|\n",
        "|`avg_sales_lag6` |Promedio mensual de ingresos en los últimos 6 meses dividido por los ingresos del último mes activo|\n",
        "|`avg_purchases_lag6` |Promedio mensual de transacciones en los últimos 6 meses dividido por las transacciones en el último mes activo|\n",
        "|`active_months_lag6` |Cantidad de meses activos en los últimos 6 meses|\n",
        "|`avg_sales_lag12` |Promedio mensual de ingresos en los últimos 12 meses dividido por los ingresos del último mes activo|\n",
        "|`avg_purchases_lag12` |Promedio mensual de transacciones en los últimos 12 meses dividido por las transacciones en el último mes activo|\n",
        "|`active_months_lag12` |Cantidad de meses activos en los últimos 12 meses|\n",
        "|`category_4` |categoría anónima|\n",
        "|`city_id` |Identificador de ciudad (anonimizado)|\n",
        "|`state_id` |Identificador de estado (anonimizado)|\n",
        "|`category_2` |categoría anónima|"
      ]
    },
    {
      "cell_type": "markdown",
      "metadata": {
        "id": "rnOc7JEln6fQ"
      },
      "source": [
        "##new_merchant_transactions.csv: análisis similar al histórico.\n",
        "|Header |  Definition|\n",
        "|---|---------|\n",
        "|`merchant_id`|Identificador único de comerciante|\n",
        "|`merchant_group_id` |Grupo de comerciantes (anónimo)|\n",
        "|`merchant_category_id` |Identificador único para la categoría del comerciante (anonimizado)|\n",
        "|`subsector_id` |Grupo de categorías de comerciantes (anonimizado)|\n",
        "|`numerical_1` |medida anónima|\n",
        "|`numerical_2` |medida anónima|\n",
        "|`category_1` |categoría anónima|\n",
        "|`most_recent_sales_range` |Rango de ingresos (unidades monetarias) en el último mes activo --> A > B > C > D > E|\n",
        "|`most_recent_purchases_range` |Rango de cantidad de transacciones en el último mes activo --> A > B > C > D > E|\n",
        "|`avg_sales_lag3` |Promedio mensual de ingresos en los últimos 3 meses dividido por los ingresos del último mes activo|\n",
        "|`avg_purchases_lag3` |Promedio mensual de transacciones en los últimos 3 meses dividido por las transacciones en el último mes activo|\n",
        "|`active_months_lag3` |Cantidad de meses activos en los últimos 3 meses|\n",
        "|`avg_sales_lag6` |Promedio mensual de ingresos en los últimos 6 meses dividido por los ingresos del último mes activo|\n",
        "|`avg_purchases_lag6` |Promedio mensual de transacciones en los últimos 6 meses dividido por las transacciones en el último mes activo|\n",
        "|`active_months_lag6` |Cantidad de meses activos en los últimos 6 meses|\n",
        "|`avg_sales_lag12` |Promedio mensual de ingresos en los últimos 12 meses dividido por los ingresos del último mes activo|\n",
        "|`avg_purchases_lag12` |Promedio mensual de transacciones en los últimos 12 meses dividido por las transacciones en el último mes activo|\n",
        "|`active_months_lag12` |Cantidad de meses activos en los últimos 12 meses|\n",
        "|`category_4` |categoría anónima|\n",
        "|`city_id` |Identificador de ciudad (anonimizado)|\n",
        "|`state_id` |Identificador de estado (anonimizado)|\n",
        "|`category_2` |categoría anónima|"
      ]
    },
    {
      "cell_type": "markdown",
      "metadata": {
        "id": "4OnmZm-Bn8wM"
      },
      "source": [
        "##merchants.csv: cantidad de merchants, categorías, etc.\n",
        "|Header |  Definition|\n",
        "|---|---------|\n",
        "|`merchant_id`|Identificador único de comerciante|\n",
        "|`merchant_group_id` |Grupo de comerciantes (anónimo)|\n",
        "|`merchant_category_id` |Identificador único para la categoría del comerciante (anonimizado)|\n",
        "|`subsector_id` |Grupo de categorías de comerciantes (anonimizado)|\n",
        "|`numerical_1` |medida anónima|\n",
        "|`numerical_2` |medida anónima|\n",
        "|`category_1` |categoría anónima|\n",
        "|`most_recent_sales_range` |Rango de ingresos (unidades monetarias) en el último mes activo --> A > B > C > D > E|\n",
        "|`most_recent_purchases_range` |Rango de cantidad de transacciones en el último mes activo --> A > B > C > D > E|\n",
        "|`avg_sales_lag3` |Promedio mensual de ingresos en los últimos 3 meses dividido por los ingresos del último mes activo|\n",
        "|`avg_purchases_lag3` |Promedio mensual de transacciones en los últimos 3 meses dividido por las transacciones en el último mes activo|\n",
        "|`active_months_lag3` |Cantidad de meses activos en los últimos 3 meses|\n",
        "|`avg_sales_lag6` |Promedio mensual de ingresos en los últimos 6 meses dividido por los ingresos del último mes activo|\n",
        "|`avg_purchases_lag6` |Promedio mensual de transacciones en los últimos 6 meses dividido por las transacciones en el último mes activo|\n",
        "|`active_months_lag6` |Cantidad de meses activos en los últimos 6 meses|\n",
        "|`avg_sales_lag12` |Promedio mensual de ingresos en los últimos 12 meses dividido por los ingresos del último mes activo|\n",
        "|`avg_purchases_lag12` |Promedio mensual de transacciones en los últimos 12 meses dividido por las transacciones en el último mes activo|\n",
        "|`active_months_lag12` |Cantidad de meses activos en los últimos 12 meses|\n",
        "|`category_4` |categoría anónima|\n",
        "|`city_id` |Identificador de ciudad (anonimizado)|\n",
        "|`state_id` |Identificador de estado (anonimizado)|\n",
        "|`category_2` |categoría anónima|"
      ]
    },
    {
      "cell_type": "markdown",
      "metadata": {
        "id": "SMrK2gFBh_cy"
      },
      "source": [
        "#4.Análisis Univariado"
      ]
    },
    {
      "cell_type": "markdown",
      "metadata": {
        "id": "hl8c3OlEiVny"
      },
      "source": [
        "##4.1.Merchant"
      ]
    },
    {
      "cell_type": "code",
      "execution_count": null,
      "metadata": {
        "id": "MVao0DWviCYG"
      },
      "outputs": [],
      "source": [
        "# Descripción estadística (describe()) por variable."
      ]
    },
    {
      "cell_type": "code",
      "execution_count": null,
      "metadata": {
        "id": "i7IMDzrciEww"
      },
      "outputs": [],
      "source": [
        "# Distribución del target (histograma, boxplot, etc)."
      ]
    },
    {
      "cell_type": "code",
      "execution_count": null,
      "metadata": {
        "id": "3wPLSv2viH7X"
      },
      "outputs": [],
      "source": [
        "# Distribuciones por tipo de variable (categórica vs numérica)."
      ]
    },
    {
      "cell_type": "code",
      "execution_count": null,
      "metadata": {
        "id": "YXExE3l5iJJe"
      },
      "outputs": [],
      "source": [
        "# Conteo de valores nulos, duplicados, outliers simples."
      ]
    },
    {
      "cell_type": "markdown",
      "metadata": {
        "id": "BvTX4Fhwilfu"
      },
      "source": [
        "##4.2.Otra tabla ...."
      ]
    },
    {
      "cell_type": "code",
      "execution_count": null,
      "metadata": {
        "id": "3PK42pY0ilfu"
      },
      "outputs": [],
      "source": [
        "# Descripción estadística (describe()) por variable."
      ]
    },
    {
      "cell_type": "code",
      "execution_count": null,
      "metadata": {
        "id": "N8UQ9i-jilfv"
      },
      "outputs": [],
      "source": [
        "# Distribución del target (histograma, boxplot, etc)."
      ]
    },
    {
      "cell_type": "code",
      "execution_count": null,
      "metadata": {
        "id": "yxjTixvdilfv"
      },
      "outputs": [],
      "source": [
        "# Distribuciones por tipo de variable (categórica vs numérica)."
      ]
    },
    {
      "cell_type": "code",
      "execution_count": null,
      "metadata": {
        "id": "2fOjDjLiilfv"
      },
      "outputs": [],
      "source": [
        "# Conteo de valores nulos, duplicados, outliers simples."
      ]
    },
    {
      "cell_type": "markdown",
      "metadata": {
        "id": "Exot2s81jSDP"
      },
      "source": [
        "#5.Análisis Multivariado"
      ]
    },
    {
      "cell_type": "code",
      "execution_count": null,
      "metadata": {
        "id": "5Sk46i5RjSDR"
      },
      "outputs": [],
      "source": [
        "# Correlación entre variables numéricas y el target."
      ]
    },
    {
      "cell_type": "code",
      "execution_count": null,
      "metadata": {
        "id": "lVkdBHGrjSDR"
      },
      "outputs": [],
      "source": [
        "# Análisis de variables categóricas vs target (agrupaciones y visualizaciones)."
      ]
    },
    {
      "cell_type": "code",
      "execution_count": null,
      "metadata": {
        "id": "ei2pdJKsjSDR"
      },
      "outputs": [],
      "source": [
        "# Comparaciones clave (ej.: antigüedad de la tarjeta vs score)."
      ]
    },
    {
      "cell_type": "markdown",
      "metadata": {
        "id": "XVkPGCkMlR5p"
      },
      "source": [
        "#6.Exploración Avanzada"
      ]
    },
    {
      "cell_type": "code",
      "execution_count": null,
      "metadata": {
        "id": "pF3XXatllXFv"
      },
      "outputs": [],
      "source": [
        "# Análisis temporal (ej.: evolución mensual de transacciones)."
      ]
    },
    {
      "cell_type": "code",
      "execution_count": null,
      "metadata": {
        "id": "TDPtsoZDlYpT"
      },
      "outputs": [],
      "source": [
        "# Agrupamiento inicial por tipo de comercio o categoría."
      ]
    },
    {
      "cell_type": "code",
      "execution_count": null,
      "metadata": {
        "id": "R3QbGuSClZ9S"
      },
      "outputs": [],
      "source": [
        "# WordClouds o visualizaciones más avanzadas para merchant_category."
      ]
    },
    {
      "cell_type": "markdown",
      "metadata": {
        "id": "hIfbUjQRjiT_"
      },
      "source": [
        "#7.Calidad de los Datos"
      ]
    },
    {
      "cell_type": "code",
      "execution_count": null,
      "metadata": {
        "id": "IygN0u12jliE"
      },
      "outputs": [],
      "source": [
        "# Identificación de valores faltantes."
      ]
    },
    {
      "cell_type": "code",
      "execution_count": null,
      "metadata": {
        "id": "-sNSSkcWjr_P"
      },
      "outputs": [],
      "source": [
        "# Análisis de duplicados y valores atípicos."
      ]
    },
    {
      "cell_type": "code",
      "execution_count": null,
      "metadata": {
        "id": "5N7IoYsJjvt0"
      },
      "outputs": [],
      "source": [
        "# Errores de codificación, columnas irrelevantes, formatos incorrectos."
      ]
    },
    {
      "cell_type": "code",
      "execution_count": null,
      "metadata": {
        "id": "LDnfcWcWjxE_"
      },
      "outputs": [],
      "source": [
        "# Posibles inconsistencias entre archivos (ej.: merchant_ids que no existen)."
      ]
    },
    {
      "cell_type": "markdown",
      "metadata": {
        "id": "TsQW1-FIj0N2"
      },
      "source": [
        "#8.Análisis de Relaciones entre Tablas"
      ]
    },
    {
      "cell_type": "code",
      "execution_count": null,
      "metadata": {
        "id": "fgFv5cFGj61L"
      },
      "outputs": [],
      "source": [
        "# ¿Cómo se relacionan las tablas? (train/test con transacciones y merchants)."
      ]
    },
    {
      "cell_type": "code",
      "execution_count": null,
      "metadata": {
        "id": "W-1f-7K1j8RP"
      },
      "outputs": [],
      "source": [
        "# Ejemplo de joins (por card_id, merchant_id)."
      ]
    },
    {
      "cell_type": "code",
      "execution_count": null,
      "metadata": {
        "id": "kELxoZLXj9yk"
      },
      "outputs": [],
      "source": [
        "# Análisis de cardinalidad y potenciales problemas de duplicación."
      ]
    },
    {
      "cell_type": "markdown",
      "metadata": {
        "id": "TCVAGyHEj_tm"
      },
      "source": [
        "#9.Insights Relevantes"
      ]
    },
    {
      "cell_type": "code",
      "execution_count": null,
      "metadata": {
        "id": "gJslT2h0kH5p"
      },
      "outputs": [],
      "source": [
        "# Descubrimientos clave\n",
        "# (ej.: variables con mayor dispersión, columnas con datos faltantes, patrones evidentes)."
      ]
    },
    {
      "cell_type": "code",
      "execution_count": null,
      "metadata": {
        "id": "E9vckZ7RkJig"
      },
      "outputs": [],
      "source": [
        "# Hipótesis preliminares (ej.: las tarjetas con más antigüedad tienden a mayor score)."
      ]
    },
    {
      "cell_type": "markdown",
      "metadata": {
        "id": "GOu4tUcfkN2N"
      },
      "source": [
        "#10.Conclusiones y Próximos Pasos"
      ]
    },
    {
      "cell_type": "code",
      "execution_count": null,
      "metadata": {
        "id": "ylMF7WrkkQCT"
      },
      "outputs": [],
      "source": [
        "# Lista de variables relevantes para modelado."
      ]
    },
    {
      "cell_type": "code",
      "execution_count": null,
      "metadata": {
        "id": "LyWFvWjKkSKi"
      },
      "outputs": [],
      "source": [
        "# Recomendaciones para la preparación de datos (fase siguiente)."
      ]
    },
    {
      "cell_type": "code",
      "execution_count": null,
      "metadata": {
        "id": "WT84OBUpkTVy"
      },
      "outputs": [],
      "source": [
        "# Validación de supuestos con el equipo de negocio (si aplica)."
      ]
    }
  ],
  "metadata": {
    "colab": {
      "provenance": []
    },
    "kernelspec": {
      "display_name": "venv",
      "language": "python",
      "name": "python3"
    },
    "language_info": {
      "codemirror_mode": {
        "name": "ipython",
        "version": 3
      },
      "file_extension": ".py",
      "mimetype": "text/x-python",
      "name": "python",
      "nbconvert_exporter": "python",
      "pygments_lexer": "ipython3",
      "version": "3.11.0"
    }
  },
  "nbformat": 4,
  "nbformat_minor": 0
}
