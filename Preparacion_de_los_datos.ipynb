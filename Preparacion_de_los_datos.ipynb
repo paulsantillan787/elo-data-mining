{
 "cells": [
  {
   "cell_type": "markdown",
   "metadata": {
    "id": "n1yMQ0O1VcEV"
   },
   "source": [
    "#1. Introducción y Objetivo de la Preparación"
   ]
  },
  {
   "cell_type": "markdown",
   "metadata": {
    "id": "kxiFnENhL2vN"
   },
   "source": [
    "En esta etapa del proyecto seguimos la metodología CRISP-DM, ubicándonos en la fase de Preparación de los Datos. El objetivo principal de este notebook es transformar y construir un dataset que esté listo para su uso en la fase de modelado, garantizando que los datos sean relevantes, consistentes y estén estructurados de manera óptima para entrenar modelos de machine learning.\n",
    "\n",
    "Durante la fase previa (Comprensión de los Datos), identificamos múltiples fuentes de información relevantes: train.csv, test.csv, historical_transactions.csv, new_merchant_transactions.csv y merchants.csv. También detectamos distintos problemas de calidad de datos, como valores faltantes, outliers, y estructuras que requerían integrarse.\n",
    "\n",
    "Por tanto, en esta notebook ejecutaremos las tareas necesarias para:\n",
    "\n",
    "- Seleccionar atributos pertinentes para el modelado desde las distintas fuentes.\n",
    "\n",
    "- Integrar adecuadamente las tablas relacionales (joins y agregaciones).\n",
    "\n",
    "- Limpiar los datos detectados como problemáticos.\n",
    "\n",
    "- Generar nuevas variables a partir del comportamiento transaccional de los usuarios.\n",
    "\n",
    "- Transformar el dataset final a un formato y estructura compatibles con algoritmos de modelado.\n",
    "\n",
    "El resultado final será un dataset preparado y curado que contenga una representación sintética de cada tarjeta (card_id), con variables numéricas y categóricas que permitan predecir de forma eficaz el loyalty score.\n",
    "\n",
    "##Resumen de decisiones tomadas durante la fase de comprensión de los datos (por ejemplo, limpieza, selección de atributos).\n",
    "Durante la fase de comprensión de los datos se analizaron las distintas fuentes de información provistas por Elo: datos de clientes (train.csv), transacciones históricas (historical_transactions.csv), transacciones recientes (new_merchant_transactions.csv) y características de los comercios (merchants.csv). Este análisis permitió identificar patrones clave, valores ausentes, relaciones entre variables y posibles outliers.\n",
    "\n",
    "En base a los hallazgos anteriores, la fase de preparación de datos tiene como objetivo transformar estos datos crudos en un conjunto estructurado, limpio y listo para alimentar modelos de aprendizaje automático supervisado. Las principales decisiones tomadas que guían esta etapa son:\n",
    "\n",
    "- El score de lealtad (target) es una variable continua y será predicho mediante un modelo de regresión.\n",
    "\n",
    "- Se seleccionaron variables relevantes de cada archivo, considerando tanto su correlación potencial con la variable objetivo como su valor semántico en el contexto del negocio.\n",
    "\n",
    "- Se detectaron variables con valores faltantes y outliers, que requerirán tratamiento adecuado.\n",
    "\n",
    "- Se observó que muchas variables relevantes provienen de las transacciones, por lo que se realizarán agregaciones por cliente (card_id) para construir una matriz de datos con un registro por cliente.\n",
    "\n",
    "- Las variables temporales tienen potencial para capturar estacionalidad, antigüedad y frecuencia, por lo que serán transformadas y derivadas.\n",
    "\n",
    "- Se aplicará codificación a variables categóricas y se descartarán aquellas con baja varianza o sin valor informativo."
   ]
  },
  {
   "cell_type": "markdown",
   "metadata": {
    "id": "fNoqcayXMKg9"
   },
   "source": [
    "#2. Selección de Datos"
   ]
  },
  {
   "cell_type": "markdown",
   "metadata": {
    "id": "km9h6AtyMPOC"
   },
   "source": [
    "##Variables del archivo train.csv\n",
    "- card_id: Identificador único del cliente. Será la clave principal para unir los datasets.\n",
    "\n",
    "- first_active_month: Se utilizará para derivar la antigüedad del cliente.\n",
    "\n",
    "- feature_1, feature_2, feature_3: Variables categóricas internas provistas por Elo. Si bien su significado exacto no está documentado, muestran cierta variabilidad entre clientes y potencialmente capturan preferencias o segmentaciones internas.\n",
    "\n",
    "Estas variables representan el punto de partida del cliente en la plataforma y pueden capturar segmentaciones internas o ciclos de vida que impactan en su lealtad futura."
   ]
  },
  {
   "cell_type": "markdown",
   "metadata": {
    "id": "fL1q5ZaMMQMk"
   },
   "source": [
    "##Variables derivadas del archivo historical_transactions.csv (agregadas por card_id)\n",
    "- purchase_amount: Se agregará como total, promedio, desviación estándar y percentiles. Mide el volumen histórico de gasto.\n",
    "\n",
    "- installments: Agregado como promedio, mediana y proporción de pagos a cuotas. Refleja el tipo de consumo (efectivo vs crédito).\n",
    "\n",
    "- purchase_date: Se extraerán variables de tiempo como antigüedad de la última compra, dispersión temporal entre compras y estacionalidad.\n",
    "\n",
    "- month_lag: Permite agrupar transacciones por su antigüedad relativa.\n",
    "\n",
    "- authorized_flag: Porcentaje de transacciones aprobadas. Mide fiabilidad del cliente.\n",
    "\n",
    "- category_1, category_2, category_3: Codificadas como proporciones o frecuencias. Capturan tipo de promoción o categoría del gasto.\n",
    "\n",
    "- merchant_category_id, state_id, city_id: Se usará diversidad (número único de categorías o ubicaciones visitadas). Refleja amplitud geográfica y de intereses.\n",
    "\n",
    "Estas variables son fundamentales para entender el comportamiento histórico del cliente, sus patrones de gasto, regularidad y preferencias. Permiten inferir su valor y fidelidad previa al sistema de Elo."
   ]
  },
  {
   "cell_type": "markdown",
   "metadata": {
    "id": "BnX4eyR7MTkV"
   },
   "source": [
    "##Variables derivadas del archivo new_merchant_transactions.csv\n",
    "- Misma estructura y tratamiento que historical_transactions, pero se analizarán como indicadores de comportamiento reciente (últimos comercios visitados).\n",
    "\n",
    "Permiten medir el comportamiento del cliente frente a nuevos comercios, lo que es clave para inferir respuesta a campañas, apertura al cambio y potencial de exploración comercial. Clientes activos con nuevos comercios pueden tener mayor probabilidad de lealtad futura."
   ]
  },
  {
   "cell_type": "markdown",
   "metadata": {},
   "source": [
    "##Variables del archivo merchants.csv (vinculadas vía merchant_id)\n",
    "- avg_sales_lag3, avg_sales_lag6, etc.: Indicadores del dinamismo del comercio.\n",
    "\n",
    "- most_recent_sales_range, most_recent_purchases_range: Codifican la intensidad comercial más reciente. Se codificarán ordinalmente.\n",
    "\n",
    "- merchant_category_id, category_1, category_4: Se cruzarán con las transacciones para crear representaciones de afinidad del cliente con ciertas categorías o tipos de comercio.\n",
    "\n",
    "El tipo de comercio influye en el patrón de compra del cliente. Al cruzarlo con los hábitos del cliente, se pueden obtener variables que midan la compatibilidad cliente–comercio."
   ]
  },
  {
   "cell_type": "markdown",
   "metadata": {},
   "source": [
    "##Variables descartadas o no priorizadas\n",
    "- subsector_id, category_name: Alta cardinalidad, bajo control semántico. Serán descartadas a menos que pruebas futuras muestren valor predictivo.\n",
    "\n",
    "- Variables como merchant_id y merchant_group_id no se usarán directamente, pero servirán como llaves de agregación.\n",
    "\n",
    "- Transacciones no autorizadas: Si representan un porcentaje muy pequeño (<5%), pueden ser descartadas por ruido.\n",
    "\n",
    "- Variables con más del 90% de valores nulos o con baja varianza."
   ]
  },
  {
   "cell_type": "markdown",
   "metadata": {},
   "source": [
    "##Enfoque adicional orientado al producto\n",
    "- Clientes con gran diversidad de categorías y alta frecuencia reciente podrían representar perfiles altamente leales o promotores. Este tipo de hipótesis será validada en el modelado.\n",
    "\n",
    "- Se prestará atención a variables que permitan explicar no solo el monto gastado, sino el nivel de compromiso con la plataforma, como uso recurrente, exploración de nuevos comercios y respuesta a promociones."
   ]
  },
  {
   "cell_type": "code",
   "execution_count": 1,
   "metadata": {},
   "outputs": [],
   "source": [
    "# Carga de Datos\n",
    "import pandas as pd\n",
    "\n",
    "# Cargar archivos (ajusta las rutas según tu entorno)\n",
    "train = pd.read_csv(\"src/train.csv\", parse_dates=[\"first_active_month\"])\n",
    "historical = pd.read_csv(\"src/historical_transactions.csv\", parse_dates=[\"purchase_date\"])\n",
    "new_merchant = pd.read_csv(\"src/new_merchant_transactions.csv\", parse_dates=[\"purchase_date\"])\n",
    "merchants = pd.read_csv(\"src/merchants.csv\")"
   ]
  },
  {
   "cell_type": "code",
   "execution_count": 2,
   "metadata": {},
   "outputs": [],
   "source": [
    "# Variables seleccionadas del dataset train\n",
    "train_selected = train[[\"card_id\", \"first_active_month\", \"feature_1\", \"feature_2\", \"feature_3\", \"target\"]]\n",
    "\n",
    "# Variables seleccionadas del dataset historical_transactions\n",
    "historical_selected = historical[\n",
    "    [\"card_id\", \"purchase_date\", \"purchase_amount\", \"installments\", \"month_lag\",\n",
    "     \"category_1\", \"category_2\", \"category_3\", \"merchant_id\", \"state_id\", \"city_id\"]\n",
    "]\n",
    "\n",
    "# Variables seleccionadas del dataset new_merchant_transactions\n",
    "new_merchant_selected = new_merchant[\n",
    "    [\"card_id\", \"purchase_date\", \"purchase_amount\", \"installments\", \"month_lag\",\n",
    "     \"category_1\", \"category_2\", \"category_3\", \"merchant_id\", \"state_id\", \"city_id\"]\n",
    "]\n",
    "\n",
    "# Variables seleccionadas del dataset merchants\n",
    "merchants_selected = merchants[\n",
    "    [\"merchant_id\", \"merchant_group_id\", \"category_1\", \"category_2\", \"avg_sales_lag3\",\n",
    "     \"avg_sales_lag6\", \"avg_sales_lag12\", \"avg_purchases_lag3\", \"avg_purchases_lag6\", \n",
    "     \"avg_purchases_lag12\", \"most_recent_sales_range\", \"most_recent_purchases_range\",\n",
    "     \"category_4\", \"city_id\", \"state_id\"]\n",
    "]\n"
   ]
  },
  {
   "cell_type": "code",
   "execution_count": 3,
   "metadata": {},
   "outputs": [],
   "source": [
    "# Guardar los DataFrames seleccionados en archivos CSV\n",
    "train_selected.to_csv(\"src/train_selected.csv\", index=False)\n",
    "historical_selected.to_csv(\"src/historical_selected.csv\", index=False)\n",
    "new_merchant_selected.to_csv(\"src/new_merchant_selected.csv\", index=False)\n",
    "merchants_selected.to_csv(\"src/merchants_selected.csv\", index=False)\n"
   ]
  },
  {
   "cell_type": "markdown",
   "metadata": {
    "id": "K5l56X30MXct"
   },
   "source": [
    "#3. Limpieza de los Datos"
   ]
  },
  {
   "cell_type": "markdown",
   "metadata": {
    "id": "gtiA-4gzMaNy"
   },
   "source": [
    "##Imputación de valores faltantes."
   ]
  },
  {
   "cell_type": "code",
   "execution_count": null,
   "metadata": {
    "id": "ytIDbymVMbmo"
   },
   "outputs": [],
   "source": []
  },
  {
   "cell_type": "markdown",
   "metadata": {
    "id": "JrFHBJr9Mb5Q"
   },
   "source": [
    "##Detección y tratamiento de outliers."
   ]
  },
  {
   "cell_type": "code",
   "execution_count": null,
   "metadata": {
    "id": "hsIQF3UNMdKd"
   },
   "outputs": [],
   "source": []
  },
  {
   "cell_type": "markdown",
   "metadata": {
    "id": "2UyVpuvdMdYp"
   },
   "source": [
    "##Corrección de valores erróneos, inconsistentes o duplicados."
   ]
  },
  {
   "cell_type": "code",
   "execution_count": null,
   "metadata": {
    "id": "I6NYRyQmMfC-"
   },
   "outputs": [],
   "source": []
  },
  {
   "cell_type": "markdown",
   "metadata": {
    "id": "i1DnTSxsMfcQ"
   },
   "source": [
    "##Normalización de formatos (ej: fechas, strings, booleans)."
   ]
  },
  {
   "cell_type": "code",
   "execution_count": null,
   "metadata": {
    "id": "OmthF-E7Mg1I"
   },
   "outputs": [],
   "source": []
  },
  {
   "cell_type": "markdown",
   "metadata": {
    "id": "MfWbExH9Mo9Q"
   },
   "source": [
    "#4. Integración de Datos"
   ]
  },
  {
   "cell_type": "markdown",
   "metadata": {
    "id": "TifvvBhuMq70"
   },
   "source": [
    "##Uniones entre tablas (por ejemplo: train + transacciones + merchants)."
   ]
  },
  {
   "cell_type": "code",
   "execution_count": null,
   "metadata": {
    "id": "YRVgbeTEMs93"
   },
   "outputs": [],
   "source": []
  },
  {
   "cell_type": "markdown",
   "metadata": {
    "id": "Uh_qUU33MtQt"
   },
   "source": [
    "##Definición del tipo de join (left, inner, etc.) y justificación."
   ]
  },
  {
   "cell_type": "code",
   "execution_count": null,
   "metadata": {
    "id": "ltgd5dMYMu7c"
   },
   "outputs": [],
   "source": []
  },
  {
   "cell_type": "markdown",
   "metadata": {
    "id": "snobJEesMvMs"
   },
   "source": [
    "##Manejo de duplicados y verificación de cardinalidades."
   ]
  },
  {
   "cell_type": "code",
   "execution_count": null,
   "metadata": {
    "id": "_wYk284XMxJJ"
   },
   "outputs": [],
   "source": []
  },
  {
   "cell_type": "markdown",
   "metadata": {
    "id": "f1KybG3AMxl-"
   },
   "source": [
    "##Agregaciones por tarjeta, tiempo o categoría (u otras variables)."
   ]
  },
  {
   "cell_type": "code",
   "execution_count": null,
   "metadata": {
    "id": "NOCL_V2mM2Qr"
   },
   "outputs": [],
   "source": []
  },
  {
   "cell_type": "markdown",
   "metadata": {
    "id": "drEe0izNND09"
   },
   "source": [
    "#5. Construcción de Variables"
   ]
  },
  {
   "cell_type": "markdown",
   "metadata": {
    "id": "6ZqFchpKNFqz"
   },
   "source": [
    "##Generación de nuevas variables basadas en las existentes (feature engineering)."
   ]
  },
  {
   "cell_type": "code",
   "execution_count": null,
   "metadata": {
    "id": "ulNMQpnKNJuM"
   },
   "outputs": [],
   "source": [
    "# Ejemplos: total de compras, frecuencia de uso, tipo de comercio más visitado."
   ]
  },
  {
   "cell_type": "markdown",
   "metadata": {
    "id": "9ME6BraVNKBL"
   },
   "source": [
    "##Cálculo de estadísticas agregadas por cliente, comerciante o tiempo."
   ]
  },
  {
   "cell_type": "code",
   "execution_count": null,
   "metadata": {
    "id": "q5gmv_VcNN0N"
   },
   "outputs": [],
   "source": [
    "# u otras agregaciones"
   ]
  },
  {
   "cell_type": "markdown",
   "metadata": {
    "id": "vmzIx9ZjNPF_"
   },
   "source": [
    "##Justificación de cada nueva variable."
   ]
  },
  {
   "cell_type": "code",
   "execution_count": null,
   "metadata": {
    "id": "2c3QiZmSNP-w"
   },
   "outputs": [],
   "source": []
  },
  {
   "cell_type": "markdown",
   "metadata": {
    "id": "6Vafk2bZNVeb"
   },
   "source": [
    "#6. Formateo y Transformación"
   ]
  },
  {
   "cell_type": "markdown",
   "metadata": {
    "id": "ROsjaOknNYor"
   },
   "source": [
    "##Escalado de variables numéricas (min-max, z-score, log, etc.)."
   ]
  },
  {
   "cell_type": "code",
   "execution_count": null,
   "metadata": {
    "id": "0tk1kn3DNadp"
   },
   "outputs": [],
   "source": [
    "# Se pueden probar varios escalados para testear luego con el modelado.\n",
    "# O investigar formas de validar la calidad del escalado (graficos u otros metodos)"
   ]
  },
  {
   "cell_type": "markdown",
   "metadata": {
    "id": "fLcidemJNavV"
   },
   "source": [
    "##Codificación de variables categóricas (label encoding, one-hot, etc.)."
   ]
  },
  {
   "cell_type": "code",
   "execution_count": null,
   "metadata": {
    "id": "HR7df73ENbUl"
   },
   "outputs": [],
   "source": []
  },
  {
   "cell_type": "markdown",
   "metadata": {
    "id": "x_Q2qL30NcY8"
   },
   "source": [
    "##Conversión de fechas a características útiles (mes, día, antigüedad, etc.)."
   ]
  },
  {
   "cell_type": "code",
   "execution_count": null,
   "metadata": {
    "id": "UrNWnnIYNdYd"
   },
   "outputs": [],
   "source": []
  },
  {
   "cell_type": "markdown",
   "metadata": {
    "id": "mZQ8rJF2Neh6"
   },
   "source": [
    "#7. Filtrado Final del Dataset"
   ]
  },
  {
   "cell_type": "markdown",
   "metadata": {
    "id": "088IeQrXNgp_"
   },
   "source": [
    "##Eliminación de columnas redundantes o intermedias."
   ]
  },
  {
   "cell_type": "code",
   "execution_count": null,
   "metadata": {
    "id": "Rmaz9fglNhXd"
   },
   "outputs": [],
   "source": []
  },
  {
   "cell_type": "markdown",
   "metadata": {
    "id": "9jp32utgNi6S"
   },
   "source": [
    "##Confirmación de que no existen valores nulos o inconsistencias."
   ]
  },
  {
   "cell_type": "code",
   "execution_count": null,
   "metadata": {
    "id": "v06ffq-BNjg7"
   },
   "outputs": [],
   "source": []
  },
  {
   "cell_type": "markdown",
   "metadata": {
    "id": "H5krvMiUNj3k"
   },
   "source": [
    "##Revisión de balance de clases si aplica."
   ]
  },
  {
   "cell_type": "code",
   "execution_count": null,
   "metadata": {
    "id": "cdWadmrHNlfb"
   },
   "outputs": [],
   "source": []
  },
  {
   "cell_type": "markdown",
   "metadata": {
    "id": "z_r6AZmmNmx7"
   },
   "source": [
    "#8. Almacenamiento del Dataset Final"
   ]
  },
  {
   "cell_type": "markdown",
   "metadata": {
    "id": "fxNGlhzMNppt"
   },
   "source": [
    "##Exportación del dataset limpio en formato .csv o .parquet."
   ]
  },
  {
   "cell_type": "code",
   "execution_count": null,
   "metadata": {
    "id": "4fbA0MhyNqQu"
   },
   "outputs": [],
   "source": []
  },
  {
   "cell_type": "markdown",
   "metadata": {
    "id": "jmzpxJ0RNqhe"
   },
   "source": [
    "##Guardado de versiones intermedias si es necesario."
   ]
  },
  {
   "cell_type": "code",
   "execution_count": null,
   "metadata": {
    "id": "ymqqHwciNsNq"
   },
   "outputs": [],
   "source": []
  },
  {
   "cell_type": "markdown",
   "metadata": {
    "id": "o5_dsR9-Nsct"
   },
   "source": [
    "##Comentarios sobre estructura y uso futuro del dataset."
   ]
  },
  {
   "cell_type": "code",
   "execution_count": null,
   "metadata": {
    "id": "71KXxO2ZNtlj"
   },
   "outputs": [],
   "source": []
  },
  {
   "cell_type": "markdown",
   "metadata": {
    "id": "K9YIqBPTNuok"
   },
   "source": [
    "#9. Validación del Dataset para Modelado"
   ]
  },
  {
   "cell_type": "markdown",
   "metadata": {
    "id": "gEzSxlZANxPV"
   },
   "source": [
    "##Comprobación de dimensiones, tipos de datos, consistencia."
   ]
  },
  {
   "cell_type": "code",
   "execution_count": null,
   "metadata": {
    "id": "hhOPDIC8Nyq1"
   },
   "outputs": [],
   "source": []
  },
  {
   "cell_type": "markdown",
   "metadata": {
    "id": "VAkaj2s2Nzzl"
   },
   "source": [
    "##Revisión rápida de la distribución de la variable target."
   ]
  },
  {
   "cell_type": "code",
   "execution_count": null,
   "metadata": {
    "id": "a-5YCTnWN0zW"
   },
   "outputs": [],
   "source": []
  },
  {
   "cell_type": "markdown",
   "metadata": {
    "id": "dNJT2MixN2Hs"
   },
   "source": [
    "##Verificación de integridad después de joins y transformaciones."
   ]
  },
  {
   "cell_type": "code",
   "execution_count": null,
   "metadata": {
    "id": "4Q4l_nXaN2uO"
   },
   "outputs": [],
   "source": []
  },
  {
   "cell_type": "markdown",
   "metadata": {
    "id": "dlUQ2bGUN30V"
   },
   "source": [
    "#10. Conclusiones y Próximos Pasos"
   ]
  },
  {
   "cell_type": "markdown",
   "metadata": {
    "id": "7w4GBzW_N5wn"
   },
   "source": [
    "##Resumen de pasos realizados.\n",
    "###1. adsad\n",
    "-\n",
    "-\n",
    "-\n",
    "\n",
    "###2. adsad\n",
    "-\n",
    "-\n",
    "-\n",
    "\n",
    "###3. adsad\n",
    "-\n",
    "-\n",
    "-\n",
    "\n",
    "\n",
    "##Observaciones relevantes para el modelado.\n",
    "-\n",
    "-\n",
    "-\n",
    "\n",
    "\n",
    "##Criterios pendientes o decisiones abiertas\n",
    "- (por ejemplo: pruebas de codificaciones)\n",
    "-\n",
    "-"
   ]
  }
 ],
 "metadata": {
  "colab": {
   "provenance": []
  },
  "kernelspec": {
   "display_name": "venv",
   "language": "python",
   "name": "python3"
  },
  "language_info": {
   "codemirror_mode": {
    "name": "ipython",
    "version": 3
   },
   "file_extension": ".py",
   "mimetype": "text/x-python",
   "name": "python",
   "nbconvert_exporter": "python",
   "pygments_lexer": "ipython3",
   "version": "3.11.0"
  }
 },
 "nbformat": 4,
 "nbformat_minor": 4
}
