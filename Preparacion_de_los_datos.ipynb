{
 "cells": [
  {
   "cell_type": "markdown",
   "metadata": {
    "id": "n1yMQ0O1VcEV"
   },
   "source": [
    "#1. Introducción y Objetivo de la Preparación"
   ]
  },
  {
   "cell_type": "markdown",
   "metadata": {
    "id": "kxiFnENhL2vN"
   },
   "source": [
    "##Objetivo del Notebook\n",
    "-\n",
    "-\n",
    "-\n",
    "\n",
    "##Resumen de decisiones tomadas durante la fase de comprensión de los datos (por ejemplo, limpieza, selección de atributos).\n",
    "-\n",
    "-\n",
    "-"
   ]
  },
  {
   "cell_type": "markdown",
   "metadata": {
    "id": "fNoqcayXMKg9"
   },
   "source": [
    "#2. Selección de Datos"
   ]
  },
  {
   "cell_type": "markdown",
   "metadata": {
    "id": "km9h6AtyMPOC"
   },
   "source": [
    "##Selección de columnas relevantes (features) basadas en el análisis anterior."
   ]
  },
  {
   "cell_type": "code",
   "execution_count": null,
   "metadata": {
    "id": "rL_V0AUzLC47"
   },
   "outputs": [],
   "source": []
  },
  {
   "cell_type": "markdown",
   "metadata": {
    "id": "fL1q5ZaMMQMk"
   },
   "source": [
    "##Exclusión de datos irrelevantes o no disponibles para modelado."
   ]
  },
  {
   "cell_type": "code",
   "execution_count": null,
   "metadata": {
    "id": "CGE7P12KMTPM"
   },
   "outputs": [],
   "source": []
  },
  {
   "cell_type": "markdown",
   "metadata": {
    "id": "BnX4eyR7MTkV"
   },
   "source": [
    "##Justificación de cada variable seleccionada."
   ]
  },
  {
   "cell_type": "code",
   "execution_count": null,
   "metadata": {
    "id": "5es7QwEgMWcj"
   },
   "outputs": [],
   "source": []
  },
  {
   "cell_type": "markdown",
   "metadata": {
    "id": "K5l56X30MXct"
   },
   "source": [
    "#3. Limpieza de los Datos"
   ]
  },
  {
   "cell_type": "markdown",
   "metadata": {
    "id": "gtiA-4gzMaNy"
   },
   "source": [
    "##Imputación de valores faltantes."
   ]
  },
  {
   "cell_type": "code",
   "execution_count": null,
   "metadata": {
    "id": "ytIDbymVMbmo"
   },
   "outputs": [],
   "source": []
  },
  {
   "cell_type": "markdown",
   "metadata": {
    "id": "JrFHBJr9Mb5Q"
   },
   "source": [
    "##Detección y tratamiento de outliers."
   ]
  },
  {
   "cell_type": "code",
   "execution_count": null,
   "metadata": {
    "id": "hsIQF3UNMdKd"
   },
   "outputs": [],
   "source": []
  },
  {
   "cell_type": "markdown",
   "metadata": {
    "id": "2UyVpuvdMdYp"
   },
   "source": [
    "##Corrección de valores erróneos, inconsistentes o duplicados."
   ]
  },
  {
   "cell_type": "code",
   "execution_count": null,
   "metadata": {
    "id": "I6NYRyQmMfC-"
   },
   "outputs": [],
   "source": []
  },
  {
   "cell_type": "markdown",
   "metadata": {
    "id": "i1DnTSxsMfcQ"
   },
   "source": [
    "##Normalización de formatos (ej: fechas, strings, booleans)."
   ]
  },
  {
   "cell_type": "code",
   "execution_count": null,
   "metadata": {
    "id": "OmthF-E7Mg1I"
   },
   "outputs": [],
   "source": []
  },
  {
   "cell_type": "markdown",
   "metadata": {
    "id": "MfWbExH9Mo9Q"
   },
   "source": [
    "#4. Integración de Datos"
   ]
  },
  {
   "cell_type": "markdown",
   "metadata": {
    "id": "TifvvBhuMq70"
   },
   "source": [
    "##Uniones entre tablas (por ejemplo: train + transacciones + merchants)."
   ]
  },
  {
   "cell_type": "code",
   "execution_count": null,
   "metadata": {
    "id": "YRVgbeTEMs93"
   },
   "outputs": [],
   "source": []
  },
  {
   "cell_type": "markdown",
   "metadata": {
    "id": "Uh_qUU33MtQt"
   },
   "source": [
    "##Definición del tipo de join (left, inner, etc.) y justificación."
   ]
  },
  {
   "cell_type": "code",
   "execution_count": null,
   "metadata": {
    "id": "ltgd5dMYMu7c"
   },
   "outputs": [],
   "source": []
  },
  {
   "cell_type": "markdown",
   "metadata": {
    "id": "snobJEesMvMs"
   },
   "source": [
    "##Manejo de duplicados y verificación de cardinalidades."
   ]
  },
  {
   "cell_type": "code",
   "execution_count": null,
   "metadata": {
    "id": "_wYk284XMxJJ"
   },
   "outputs": [],
   "source": []
  },
  {
   "cell_type": "markdown",
   "metadata": {
    "id": "f1KybG3AMxl-"
   },
   "source": [
    "##Agregaciones por tarjeta, tiempo o categoría (u otras variables)."
   ]
  },
  {
   "cell_type": "code",
   "execution_count": null,
   "metadata": {
    "id": "NOCL_V2mM2Qr"
   },
   "outputs": [],
   "source": []
  },
  {
   "cell_type": "markdown",
   "metadata": {
    "id": "drEe0izNND09"
   },
   "source": [
    "#5. Construcción de Variables"
   ]
  },
  {
   "cell_type": "markdown",
   "metadata": {
    "id": "6ZqFchpKNFqz"
   },
   "source": [
    "##Generación de nuevas variables basadas en las existentes (feature engineering)."
   ]
  },
  {
   "cell_type": "code",
   "execution_count": null,
   "metadata": {
    "id": "ulNMQpnKNJuM"
   },
   "outputs": [],
   "source": [
    "# Ejemplos: total de compras, frecuencia de uso, tipo de comercio más visitado."
   ]
  },
  {
   "cell_type": "markdown",
   "metadata": {
    "id": "9ME6BraVNKBL"
   },
   "source": [
    "##Cálculo de estadísticas agregadas por cliente, comerciante o tiempo."
   ]
  },
  {
   "cell_type": "code",
   "execution_count": null,
   "metadata": {
    "id": "q5gmv_VcNN0N"
   },
   "outputs": [],
   "source": [
    "# u otras agregaciones"
   ]
  },
  {
   "cell_type": "markdown",
   "metadata": {
    "id": "vmzIx9ZjNPF_"
   },
   "source": [
    "##Justificación de cada nueva variable."
   ]
  },
  {
   "cell_type": "code",
   "execution_count": null,
   "metadata": {
    "id": "2c3QiZmSNP-w"
   },
   "outputs": [],
   "source": []
  },
  {
   "cell_type": "markdown",
   "metadata": {
    "id": "6Vafk2bZNVeb"
   },
   "source": [
    "#6. Formateo y Transformación"
   ]
  },
  {
   "cell_type": "markdown",
   "metadata": {
    "id": "ROsjaOknNYor"
   },
   "source": [
    "##Escalado de variables numéricas (min-max, z-score, log, etc.)."
   ]
  },
  {
   "cell_type": "code",
   "execution_count": null,
   "metadata": {
    "id": "0tk1kn3DNadp"
   },
   "outputs": [],
   "source": [
    "# Se pueden probar varios escalados para testear luego con el modelado.\n",
    "# O investigar formas de validar la calidad del escalado (graficos u otros metodos)"
   ]
  },
  {
   "cell_type": "markdown",
   "metadata": {
    "id": "fLcidemJNavV"
   },
   "source": [
    "##Codificación de variables categóricas (label encoding, one-hot, etc.)."
   ]
  },
  {
   "cell_type": "code",
   "execution_count": null,
   "metadata": {
    "id": "HR7df73ENbUl"
   },
   "outputs": [],
   "source": []
  },
  {
   "cell_type": "markdown",
   "metadata": {
    "id": "x_Q2qL30NcY8"
   },
   "source": [
    "##Conversión de fechas a características útiles (mes, día, antigüedad, etc.)."
   ]
  },
  {
   "cell_type": "code",
   "execution_count": null,
   "metadata": {
    "id": "UrNWnnIYNdYd"
   },
   "outputs": [],
   "source": []
  },
  {
   "cell_type": "markdown",
   "metadata": {
    "id": "mZQ8rJF2Neh6"
   },
   "source": [
    "#7. Filtrado Final del Dataset"
   ]
  },
  {
   "cell_type": "markdown",
   "metadata": {
    "id": "088IeQrXNgp_"
   },
   "source": [
    "##Eliminación de columnas redundantes o intermedias."
   ]
  },
  {
   "cell_type": "code",
   "execution_count": null,
   "metadata": {
    "id": "Rmaz9fglNhXd"
   },
   "outputs": [],
   "source": []
  },
  {
   "cell_type": "markdown",
   "metadata": {
    "id": "9jp32utgNi6S"
   },
   "source": [
    "##Confirmación de que no existen valores nulos o inconsistencias."
   ]
  },
  {
   "cell_type": "code",
   "execution_count": null,
   "metadata": {
    "id": "v06ffq-BNjg7"
   },
   "outputs": [],
   "source": []
  },
  {
   "cell_type": "markdown",
   "metadata": {
    "id": "H5krvMiUNj3k"
   },
   "source": [
    "##Revisión de balance de clases si aplica."
   ]
  },
  {
   "cell_type": "code",
   "execution_count": null,
   "metadata": {
    "id": "cdWadmrHNlfb"
   },
   "outputs": [],
   "source": []
  },
  {
   "cell_type": "markdown",
   "metadata": {
    "id": "z_r6AZmmNmx7"
   },
   "source": [
    "#8. Almacenamiento del Dataset Final"
   ]
  },
  {
   "cell_type": "markdown",
   "metadata": {
    "id": "fxNGlhzMNppt"
   },
   "source": [
    "##Exportación del dataset limpio en formato .csv o .parquet."
   ]
  },
  {
   "cell_type": "code",
   "execution_count": null,
   "metadata": {
    "id": "4fbA0MhyNqQu"
   },
   "outputs": [],
   "source": []
  },
  {
   "cell_type": "markdown",
   "metadata": {
    "id": "jmzpxJ0RNqhe"
   },
   "source": [
    "##Guardado de versiones intermedias si es necesario."
   ]
  },
  {
   "cell_type": "code",
   "execution_count": null,
   "metadata": {
    "id": "ymqqHwciNsNq"
   },
   "outputs": [],
   "source": []
  },
  {
   "cell_type": "markdown",
   "metadata": {
    "id": "o5_dsR9-Nsct"
   },
   "source": [
    "##Comentarios sobre estructura y uso futuro del dataset."
   ]
  },
  {
   "cell_type": "code",
   "execution_count": null,
   "metadata": {
    "id": "71KXxO2ZNtlj"
   },
   "outputs": [],
   "source": []
  },
  {
   "cell_type": "markdown",
   "metadata": {
    "id": "K9YIqBPTNuok"
   },
   "source": [
    "#9. Validación del Dataset para Modelado"
   ]
  },
  {
   "cell_type": "markdown",
   "metadata": {
    "id": "gEzSxlZANxPV"
   },
   "source": [
    "##Comprobación de dimensiones, tipos de datos, consistencia."
   ]
  },
  {
   "cell_type": "code",
   "execution_count": null,
   "metadata": {
    "id": "hhOPDIC8Nyq1"
   },
   "outputs": [],
   "source": []
  },
  {
   "cell_type": "markdown",
   "metadata": {
    "id": "VAkaj2s2Nzzl"
   },
   "source": [
    "##Revisión rápida de la distribución de la variable target."
   ]
  },
  {
   "cell_type": "code",
   "execution_count": null,
   "metadata": {
    "id": "a-5YCTnWN0zW"
   },
   "outputs": [],
   "source": []
  },
  {
   "cell_type": "markdown",
   "metadata": {
    "id": "dNJT2MixN2Hs"
   },
   "source": [
    "##Verificación de integridad después de joins y transformaciones."
   ]
  },
  {
   "cell_type": "code",
   "execution_count": null,
   "metadata": {
    "id": "4Q4l_nXaN2uO"
   },
   "outputs": [],
   "source": []
  },
  {
   "cell_type": "markdown",
   "metadata": {
    "id": "dlUQ2bGUN30V"
   },
   "source": [
    "#10. Conclusiones y Próximos Pasos"
   ]
  },
  {
   "cell_type": "markdown",
   "metadata": {
    "id": "7w4GBzW_N5wn"
   },
   "source": [
    "##Resumen de pasos realizados.\n",
    "###1. adsad\n",
    "-\n",
    "-\n",
    "-\n",
    "\n",
    "###2. adsad\n",
    "-\n",
    "-\n",
    "-\n",
    "\n",
    "###3. adsad\n",
    "-\n",
    "-\n",
    "-\n",
    "\n",
    "\n",
    "##Observaciones relevantes para el modelado.\n",
    "-\n",
    "-\n",
    "-\n",
    "\n",
    "\n",
    "##Criterios pendientes o decisiones abiertas\n",
    "- (por ejemplo: pruebas de codificaciones)\n",
    "-\n",
    "-"
   ]
  }
 ],
 "metadata": {
  "colab": {
   "provenance": []
  },
  "kernelspec": {
   "display_name": "Python 3 (ipykernel)",
   "language": "python",
   "name": "python3"
  },
  "language_info": {
   "codemirror_mode": {
    "name": "ipython",
    "version": 3
   },
   "file_extension": ".py",
   "mimetype": "text/x-python",
   "name": "python",
   "nbconvert_exporter": "python",
   "pygments_lexer": "ipython3",
   "version": "3.12.7"
  }
 },
 "nbformat": 4,
 "nbformat_minor": 4
}
